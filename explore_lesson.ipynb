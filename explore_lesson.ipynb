{
 "cells": [
  {
   "cell_type": "markdown",
   "id": "ebcc161e-8076-4903-854d-6348716a0a46",
   "metadata": {},
   "source": [
    "# Exploration"
   ]
  },
  {
   "cell_type": "code",
   "execution_count": 1,
   "id": "d1eb380f-69e1-4d71-a690-0f6ff9b9c08f",
   "metadata": {},
   "outputs": [],
   "source": [
    "import pandas as pd\n",
    "import numpy as np\n",
    "import matplotlib.pyplot as plt\n",
    "import seaborn as sns\n",
    "from scipy import stats\n",
    "\n",
    "from sklearn.model_selection import train_test_split\n",
    "\n",
    "import warnings\n",
    "warnings.filterwarnings(\"ignore\")"
   ]
  },
  {
   "cell_type": "code",
   "execution_count": 2,
   "id": "8e036da4-bbf6-4665-bd7c-c665d55a43a9",
   "metadata": {},
   "outputs": [],
   "source": [
    "def wrangle_grades():\n",
    "    df = pd.read_csv('./student_grades.csv')\n",
    "    df = df.replace(r'^\\s*$', np.nan, regex=True)\n",
    "    df = df.dropna()\n",
    "    df = df.astype('int')\n",
    "    return df"
   ]
  },
  {
   "cell_type": "code",
   "execution_count": 3,
   "id": "d1322d95-6370-4128-9bfe-67a109e1eb91",
   "metadata": {
    "scrolled": true
   },
   "outputs": [
    {
     "ename": "FileNotFoundError",
     "evalue": "[Errno 2] No such file or directory: './student_grades.csv'",
     "output_type": "error",
     "traceback": [
      "\u001b[0;31m------------------------------------------------------------------\u001b[0m",
      "\u001b[0;31mFileNotFoundError\u001b[0m                Traceback (most recent call last)",
      "\u001b[0;32m<ipython-input-3-c63a8eb18963>\u001b[0m in \u001b[0;36m<module>\u001b[0;34m\u001b[0m\n\u001b[0;32m----> 1\u001b[0;31m \u001b[0mdf\u001b[0m \u001b[0;34m=\u001b[0m \u001b[0mwrangle_grades\u001b[0m\u001b[0;34m(\u001b[0m\u001b[0;34m)\u001b[0m\u001b[0;34m\u001b[0m\u001b[0;34m\u001b[0m\u001b[0m\n\u001b[0m",
      "\u001b[0;32m<ipython-input-2-ad4ea71f1601>\u001b[0m in \u001b[0;36mwrangle_grades\u001b[0;34m()\u001b[0m\n\u001b[1;32m      1\u001b[0m \u001b[0;32mdef\u001b[0m \u001b[0mwrangle_grades\u001b[0m\u001b[0;34m(\u001b[0m\u001b[0;34m)\u001b[0m\u001b[0;34m:\u001b[0m\u001b[0;34m\u001b[0m\u001b[0;34m\u001b[0m\u001b[0m\n\u001b[0;32m----> 2\u001b[0;31m     \u001b[0mdf\u001b[0m \u001b[0;34m=\u001b[0m \u001b[0mpd\u001b[0m\u001b[0;34m.\u001b[0m\u001b[0mread_csv\u001b[0m\u001b[0;34m(\u001b[0m\u001b[0;34m'./student_grades.csv'\u001b[0m\u001b[0;34m)\u001b[0m\u001b[0;34m\u001b[0m\u001b[0;34m\u001b[0m\u001b[0m\n\u001b[0m\u001b[1;32m      3\u001b[0m     \u001b[0mdf\u001b[0m \u001b[0;34m=\u001b[0m \u001b[0mdf\u001b[0m\u001b[0;34m.\u001b[0m\u001b[0mreplace\u001b[0m\u001b[0;34m(\u001b[0m\u001b[0;34mr'^\\s*$'\u001b[0m\u001b[0;34m,\u001b[0m \u001b[0mnp\u001b[0m\u001b[0;34m.\u001b[0m\u001b[0mnan\u001b[0m\u001b[0;34m,\u001b[0m \u001b[0mregex\u001b[0m\u001b[0;34m=\u001b[0m\u001b[0;32mTrue\u001b[0m\u001b[0;34m)\u001b[0m\u001b[0;34m\u001b[0m\u001b[0;34m\u001b[0m\u001b[0m\n\u001b[1;32m      4\u001b[0m     \u001b[0mdf\u001b[0m \u001b[0;34m=\u001b[0m \u001b[0mdf\u001b[0m\u001b[0;34m.\u001b[0m\u001b[0mdropna\u001b[0m\u001b[0;34m(\u001b[0m\u001b[0;34m)\u001b[0m\u001b[0;34m\u001b[0m\u001b[0;34m\u001b[0m\u001b[0m\n\u001b[1;32m      5\u001b[0m     \u001b[0mdf\u001b[0m \u001b[0;34m=\u001b[0m \u001b[0mdf\u001b[0m\u001b[0;34m.\u001b[0m\u001b[0mastype\u001b[0m\u001b[0;34m(\u001b[0m\u001b[0;34m'int'\u001b[0m\u001b[0;34m)\u001b[0m\u001b[0;34m\u001b[0m\u001b[0;34m\u001b[0m\u001b[0m\n",
      "\u001b[0;32m/opt/homebrew/anaconda3/lib/python3.8/site-packages/pandas/io/parsers.py\u001b[0m in \u001b[0;36mread_csv\u001b[0;34m(filepath_or_buffer, sep, delimiter, header, names, index_col, usecols, squeeze, prefix, mangle_dupe_cols, dtype, engine, converters, true_values, false_values, skipinitialspace, skiprows, skipfooter, nrows, na_values, keep_default_na, na_filter, verbose, skip_blank_lines, parse_dates, infer_datetime_format, keep_date_col, date_parser, dayfirst, cache_dates, iterator, chunksize, compression, thousands, decimal, lineterminator, quotechar, quoting, doublequote, escapechar, comment, encoding, dialect, error_bad_lines, warn_bad_lines, delim_whitespace, low_memory, memory_map, float_precision, storage_options)\u001b[0m\n\u001b[1;32m    608\u001b[0m     \u001b[0mkwds\u001b[0m\u001b[0;34m.\u001b[0m\u001b[0mupdate\u001b[0m\u001b[0;34m(\u001b[0m\u001b[0mkwds_defaults\u001b[0m\u001b[0;34m)\u001b[0m\u001b[0;34m\u001b[0m\u001b[0;34m\u001b[0m\u001b[0m\n\u001b[1;32m    609\u001b[0m \u001b[0;34m\u001b[0m\u001b[0m\n\u001b[0;32m--> 610\u001b[0;31m     \u001b[0;32mreturn\u001b[0m \u001b[0m_read\u001b[0m\u001b[0;34m(\u001b[0m\u001b[0mfilepath_or_buffer\u001b[0m\u001b[0;34m,\u001b[0m \u001b[0mkwds\u001b[0m\u001b[0;34m)\u001b[0m\u001b[0;34m\u001b[0m\u001b[0;34m\u001b[0m\u001b[0m\n\u001b[0m\u001b[1;32m    611\u001b[0m \u001b[0;34m\u001b[0m\u001b[0m\n\u001b[1;32m    612\u001b[0m \u001b[0;34m\u001b[0m\u001b[0m\n",
      "\u001b[0;32m/opt/homebrew/anaconda3/lib/python3.8/site-packages/pandas/io/parsers.py\u001b[0m in \u001b[0;36m_read\u001b[0;34m(filepath_or_buffer, kwds)\u001b[0m\n\u001b[1;32m    460\u001b[0m \u001b[0;34m\u001b[0m\u001b[0m\n\u001b[1;32m    461\u001b[0m     \u001b[0;31m# Create the parser.\u001b[0m\u001b[0;34m\u001b[0m\u001b[0;34m\u001b[0m\u001b[0;34m\u001b[0m\u001b[0m\n\u001b[0;32m--> 462\u001b[0;31m     \u001b[0mparser\u001b[0m \u001b[0;34m=\u001b[0m \u001b[0mTextFileReader\u001b[0m\u001b[0;34m(\u001b[0m\u001b[0mfilepath_or_buffer\u001b[0m\u001b[0;34m,\u001b[0m \u001b[0;34m**\u001b[0m\u001b[0mkwds\u001b[0m\u001b[0;34m)\u001b[0m\u001b[0;34m\u001b[0m\u001b[0;34m\u001b[0m\u001b[0m\n\u001b[0m\u001b[1;32m    463\u001b[0m \u001b[0;34m\u001b[0m\u001b[0m\n\u001b[1;32m    464\u001b[0m     \u001b[0;32mif\u001b[0m \u001b[0mchunksize\u001b[0m \u001b[0;32mor\u001b[0m \u001b[0miterator\u001b[0m\u001b[0;34m:\u001b[0m\u001b[0;34m\u001b[0m\u001b[0;34m\u001b[0m\u001b[0m\n",
      "\u001b[0;32m/opt/homebrew/anaconda3/lib/python3.8/site-packages/pandas/io/parsers.py\u001b[0m in \u001b[0;36m__init__\u001b[0;34m(self, f, engine, **kwds)\u001b[0m\n\u001b[1;32m    817\u001b[0m             \u001b[0mself\u001b[0m\u001b[0;34m.\u001b[0m\u001b[0moptions\u001b[0m\u001b[0;34m[\u001b[0m\u001b[0;34m\"has_index_names\"\u001b[0m\u001b[0;34m]\u001b[0m \u001b[0;34m=\u001b[0m \u001b[0mkwds\u001b[0m\u001b[0;34m[\u001b[0m\u001b[0;34m\"has_index_names\"\u001b[0m\u001b[0;34m]\u001b[0m\u001b[0;34m\u001b[0m\u001b[0;34m\u001b[0m\u001b[0m\n\u001b[1;32m    818\u001b[0m \u001b[0;34m\u001b[0m\u001b[0m\n\u001b[0;32m--> 819\u001b[0;31m         \u001b[0mself\u001b[0m\u001b[0;34m.\u001b[0m\u001b[0m_engine\u001b[0m \u001b[0;34m=\u001b[0m \u001b[0mself\u001b[0m\u001b[0;34m.\u001b[0m\u001b[0m_make_engine\u001b[0m\u001b[0;34m(\u001b[0m\u001b[0mself\u001b[0m\u001b[0;34m.\u001b[0m\u001b[0mengine\u001b[0m\u001b[0;34m)\u001b[0m\u001b[0;34m\u001b[0m\u001b[0;34m\u001b[0m\u001b[0m\n\u001b[0m\u001b[1;32m    820\u001b[0m \u001b[0;34m\u001b[0m\u001b[0m\n\u001b[1;32m    821\u001b[0m     \u001b[0;32mdef\u001b[0m \u001b[0mclose\u001b[0m\u001b[0;34m(\u001b[0m\u001b[0mself\u001b[0m\u001b[0;34m)\u001b[0m\u001b[0;34m:\u001b[0m\u001b[0;34m\u001b[0m\u001b[0;34m\u001b[0m\u001b[0m\n",
      "\u001b[0;32m/opt/homebrew/anaconda3/lib/python3.8/site-packages/pandas/io/parsers.py\u001b[0m in \u001b[0;36m_make_engine\u001b[0;34m(self, engine)\u001b[0m\n\u001b[1;32m   1048\u001b[0m             )\n\u001b[1;32m   1049\u001b[0m         \u001b[0;31m# error: Too many arguments for \"ParserBase\"\u001b[0m\u001b[0;34m\u001b[0m\u001b[0;34m\u001b[0m\u001b[0;34m\u001b[0m\u001b[0m\n\u001b[0;32m-> 1050\u001b[0;31m         \u001b[0;32mreturn\u001b[0m \u001b[0mmapping\u001b[0m\u001b[0;34m[\u001b[0m\u001b[0mengine\u001b[0m\u001b[0;34m]\u001b[0m\u001b[0;34m(\u001b[0m\u001b[0mself\u001b[0m\u001b[0;34m.\u001b[0m\u001b[0mf\u001b[0m\u001b[0;34m,\u001b[0m \u001b[0;34m**\u001b[0m\u001b[0mself\u001b[0m\u001b[0;34m.\u001b[0m\u001b[0moptions\u001b[0m\u001b[0;34m)\u001b[0m  \u001b[0;31m# type: ignore[call-arg]\u001b[0m\u001b[0;34m\u001b[0m\u001b[0;34m\u001b[0m\u001b[0m\n\u001b[0m\u001b[1;32m   1051\u001b[0m \u001b[0;34m\u001b[0m\u001b[0m\n\u001b[1;32m   1052\u001b[0m     \u001b[0;32mdef\u001b[0m \u001b[0m_failover_to_python\u001b[0m\u001b[0;34m(\u001b[0m\u001b[0mself\u001b[0m\u001b[0;34m)\u001b[0m\u001b[0;34m:\u001b[0m\u001b[0;34m\u001b[0m\u001b[0;34m\u001b[0m\u001b[0m\n",
      "\u001b[0;32m/opt/homebrew/anaconda3/lib/python3.8/site-packages/pandas/io/parsers.py\u001b[0m in \u001b[0;36m__init__\u001b[0;34m(self, src, **kwds)\u001b[0m\n\u001b[1;32m   1865\u001b[0m \u001b[0;34m\u001b[0m\u001b[0m\n\u001b[1;32m   1866\u001b[0m         \u001b[0;31m# open handles\u001b[0m\u001b[0;34m\u001b[0m\u001b[0;34m\u001b[0m\u001b[0;34m\u001b[0m\u001b[0m\n\u001b[0;32m-> 1867\u001b[0;31m         \u001b[0mself\u001b[0m\u001b[0;34m.\u001b[0m\u001b[0m_open_handles\u001b[0m\u001b[0;34m(\u001b[0m\u001b[0msrc\u001b[0m\u001b[0;34m,\u001b[0m \u001b[0mkwds\u001b[0m\u001b[0;34m)\u001b[0m\u001b[0;34m\u001b[0m\u001b[0;34m\u001b[0m\u001b[0m\n\u001b[0m\u001b[1;32m   1868\u001b[0m         \u001b[0;32massert\u001b[0m \u001b[0mself\u001b[0m\u001b[0;34m.\u001b[0m\u001b[0mhandles\u001b[0m \u001b[0;32mis\u001b[0m \u001b[0;32mnot\u001b[0m \u001b[0;32mNone\u001b[0m\u001b[0;34m\u001b[0m\u001b[0;34m\u001b[0m\u001b[0m\n\u001b[1;32m   1869\u001b[0m         \u001b[0;32mfor\u001b[0m \u001b[0mkey\u001b[0m \u001b[0;32min\u001b[0m \u001b[0;34m(\u001b[0m\u001b[0;34m\"storage_options\"\u001b[0m\u001b[0;34m,\u001b[0m \u001b[0;34m\"encoding\"\u001b[0m\u001b[0;34m,\u001b[0m \u001b[0;34m\"memory_map\"\u001b[0m\u001b[0;34m,\u001b[0m \u001b[0;34m\"compression\"\u001b[0m\u001b[0;34m)\u001b[0m\u001b[0;34m:\u001b[0m\u001b[0;34m\u001b[0m\u001b[0;34m\u001b[0m\u001b[0m\n",
      "\u001b[0;32m/opt/homebrew/anaconda3/lib/python3.8/site-packages/pandas/io/parsers.py\u001b[0m in \u001b[0;36m_open_handles\u001b[0;34m(self, src, kwds)\u001b[0m\n\u001b[1;32m   1360\u001b[0m         \u001b[0mLet\u001b[0m \u001b[0mthe\u001b[0m \u001b[0mreaders\u001b[0m \u001b[0mopen\u001b[0m \u001b[0mIOHanldes\u001b[0m \u001b[0mafter\u001b[0m \u001b[0mthey\u001b[0m \u001b[0mare\u001b[0m \u001b[0mdone\u001b[0m \u001b[0;32mwith\u001b[0m \u001b[0mtheir\u001b[0m \u001b[0mpotential\u001b[0m \u001b[0mraises\u001b[0m\u001b[0;34m.\u001b[0m\u001b[0;34m\u001b[0m\u001b[0;34m\u001b[0m\u001b[0m\n\u001b[1;32m   1361\u001b[0m         \"\"\"\n\u001b[0;32m-> 1362\u001b[0;31m         self.handles = get_handle(\n\u001b[0m\u001b[1;32m   1363\u001b[0m             \u001b[0msrc\u001b[0m\u001b[0;34m,\u001b[0m\u001b[0;34m\u001b[0m\u001b[0;34m\u001b[0m\u001b[0m\n\u001b[1;32m   1364\u001b[0m             \u001b[0;34m\"r\"\u001b[0m\u001b[0;34m,\u001b[0m\u001b[0;34m\u001b[0m\u001b[0;34m\u001b[0m\u001b[0m\n",
      "\u001b[0;32m/opt/homebrew/anaconda3/lib/python3.8/site-packages/pandas/io/common.py\u001b[0m in \u001b[0;36mget_handle\u001b[0;34m(path_or_buf, mode, encoding, compression, memory_map, is_text, errors, storage_options)\u001b[0m\n\u001b[1;32m    640\u001b[0m                 \u001b[0merrors\u001b[0m \u001b[0;34m=\u001b[0m \u001b[0;34m\"replace\"\u001b[0m\u001b[0;34m\u001b[0m\u001b[0;34m\u001b[0m\u001b[0m\n\u001b[1;32m    641\u001b[0m             \u001b[0;31m# Encoding\u001b[0m\u001b[0;34m\u001b[0m\u001b[0;34m\u001b[0m\u001b[0;34m\u001b[0m\u001b[0m\n\u001b[0;32m--> 642\u001b[0;31m             handle = open(\n\u001b[0m\u001b[1;32m    643\u001b[0m                 \u001b[0mhandle\u001b[0m\u001b[0;34m,\u001b[0m\u001b[0;34m\u001b[0m\u001b[0;34m\u001b[0m\u001b[0m\n\u001b[1;32m    644\u001b[0m                 \u001b[0mioargs\u001b[0m\u001b[0;34m.\u001b[0m\u001b[0mmode\u001b[0m\u001b[0;34m,\u001b[0m\u001b[0;34m\u001b[0m\u001b[0;34m\u001b[0m\u001b[0m\n",
      "\u001b[0;31mFileNotFoundError\u001b[0m: [Errno 2] No such file or directory: './student_grades.csv'"
     ]
    }
   ],
   "source": [
    "df = wrangle_grades()"
   ]
  },
  {
   "cell_type": "code",
   "execution_count": null,
   "id": "f3fd46c5-2e46-4a5a-8ab9-4cfa533012a6",
   "metadata": {},
   "outputs": [],
   "source": [
    "train, test = train_test_split(df, random_state=123, train_size=.8)"
   ]
  },
  {
   "cell_type": "markdown",
   "id": "90a93c9e-f1eb-46ab-9806-e03ae0788d86",
   "metadata": {},
   "source": [
    "## Why Explore?\n",
    "\n",
    "- What is the purpose of this pipeline stage?\n",
    "- Why do we call it out explicitly?\n",
    "- DIKW\n",
    "- DIKIA (https://ds.codeup.com/fundamentals/DataToAction_v2.jpg)"
   ]
  },
  {
   "cell_type": "code",
   "execution_count": null,
   "id": "7befb441-e5c7-4c43-bec4-78b39eea458f",
   "metadata": {},
   "outputs": [],
   "source": [
    "df.head()"
   ]
  },
  {
   "cell_type": "markdown",
   "id": "602e6a53-a531-4d5c-9f57-1ffe8d0f8065",
   "metadata": {},
   "source": [
    "## Questions\n",
    "\n",
    "- Is student_id unique?\n",
    "- What's the relationship between individual exam scores and final grade? Probably fairly predictive\n",
    "- Is there a cutoff in grade that makes sense to investigate? Passing/failing, letter grades?"
   ]
  },
  {
   "cell_type": "code",
   "execution_count": null,
   "id": "7120a558-d3d9-4908-896e-e74f74e27bac",
   "metadata": {},
   "outputs": [],
   "source": [
    "df.student_id.value_counts().value_counts()"
   ]
  },
  {
   "cell_type": "code",
   "execution_count": null,
   "id": "5e7cc7d8-fa4a-4993-a259-bad607fe2c50",
   "metadata": {},
   "outputs": [],
   "source": [
    "# Does each value uniquely identify a row?\n",
    "df.student_id.nunique() == df.shape[0]"
   ]
  },
  {
   "cell_type": "code",
   "execution_count": null,
   "id": "9db3bcae-5bf4-4b45-ac54-070db8d0b750",
   "metadata": {},
   "outputs": [],
   "source": [
    "df = df.drop(columns='student_id')"
   ]
  },
  {
   "cell_type": "code",
   "execution_count": null,
   "id": "3fa1c074-f1e8-4b36-b013-d934b05bc73b",
   "metadata": {},
   "outputs": [],
   "source": [
    "correlation_table = df.corr()\n",
    "# sns.heatmap(correlation_table, cmap='Blues', annot=True, vmin=0, vmax=1)\n",
    "sns.heatmap(correlation_table, cmap='Blues', annot=True)"
   ]
  },
  {
   "cell_type": "markdown",
   "id": "d72f2159-76c0-438c-810c-8b272aa9bb05",
   "metadata": {},
   "source": [
    "* Exam 1 seems to be the most predictive of final grade\n",
    "* Everything seems to correlate with everything (Multicolinearity)"
   ]
  },
  {
   "cell_type": "code",
   "execution_count": null,
   "id": "99eab5af-2704-4fe1-aca8-e3daa28cc37e",
   "metadata": {},
   "outputs": [],
   "source": [
    "sns.pairplot(train.drop(columns='student_id'))"
   ]
  },
  {
   "cell_type": "markdown",
   "id": "729411f1-4a36-401e-8b7a-933fc13fa2a2",
   "metadata": {},
   "source": [
    "* Lots of linear relationships between exams\n",
    "* Exam scores aren't all normally distributed\n",
    "* It looks like the distribution of exam 2 scores is bimodal -- there's two peaks in the distribution"
   ]
  },
  {
   "cell_type": "code",
   "execution_count": null,
   "id": "c0e459f7-2707-4520-bba0-dec674c9ef6d",
   "metadata": {},
   "outputs": [],
   "source": [
    "train.exam2.plot.hist()"
   ]
  },
  {
   "cell_type": "code",
   "execution_count": null,
   "id": "282a9e3b-ce3f-4b4f-ac9a-67bf691cfa54",
   "metadata": {},
   "outputs": [],
   "source": [
    "train.exam2.value_counts(bins=[0, 75, 100])"
   ]
  },
  {
   "cell_type": "code",
   "execution_count": null,
   "id": "f423b710-2187-4e52-b9b6-314c4d92a3c9",
   "metadata": {},
   "outputs": [],
   "source": [
    "train['exam2_desc'] = np.where(train.exam2 > 75, 'good grade', 'bad grade')"
   ]
  },
  {
   "cell_type": "code",
   "execution_count": null,
   "id": "c531e389-6d11-459e-b008-8e1ba972495a",
   "metadata": {},
   "outputs": [],
   "source": [
    "sns.histplot(data=train, x='final_grade', hue='exam2_desc')"
   ]
  },
  {
   "cell_type": "code",
   "execution_count": null,
   "id": "e63164df-a9aa-4f2d-b0f9-114f6f652c7d",
   "metadata": {},
   "outputs": [],
   "source": [
    "train"
   ]
  },
  {
   "cell_type": "code",
   "execution_count": null,
   "id": "b10fc946-c966-4cdb-9813-6bb2282d6408",
   "metadata": {},
   "outputs": [],
   "source": [
    "sns.pairplot(train.drop(columns=['student_id', 'exam2']), hue='exam2_desc')"
   ]
  },
  {
   "cell_type": "code",
   "execution_count": null,
   "id": "7f11aaac-669d-46b8-8c7c-4245197ead5d",
   "metadata": {},
   "outputs": [],
   "source": [
    "train.exam1.plot.hist()"
   ]
  },
  {
   "cell_type": "code",
   "execution_count": null,
   "id": "13ba37d8-44f0-43ee-b3dd-23a7f0453fc1",
   "metadata": {},
   "outputs": [],
   "source": [
    "train.exam1.value_counts(bins=[0, 75, 100])"
   ]
  },
  {
   "cell_type": "code",
   "execution_count": null,
   "id": "311769e3-2391-4b2f-b641-c6fa9b6fe9a5",
   "metadata": {},
   "outputs": [],
   "source": [
    "train['exam1_desc'] = np.where(train.exam1 > 75, 'good grade', 'bad grade')"
   ]
  },
  {
   "cell_type": "code",
   "execution_count": null,
   "id": "760b77c9-2c01-4b80-98d7-60324373dfae",
   "metadata": {},
   "outputs": [],
   "source": [
    "train.groupby('exam1_desc').final_grade.mean()"
   ]
  },
  {
   "cell_type": "markdown",
   "id": "d7189bf2-04b7-4e45-8af0-3635eac43db8",
   "metadata": {},
   "source": [
    "Takeaways:\n",
    "\n",
    "* Students that perform well on exam 1 (> a 75) go on to have a average of 90 for their final grade\n",
    "* Students that perform poorly on exam 1 (<= a 75) go on to, on average, just barely pass the class"
   ]
  },
  {
   "cell_type": "code",
   "execution_count": null,
   "id": "037ea87a-8442-41e9-ad35-891daacc89d9",
   "metadata": {},
   "outputs": [],
   "source": [
    "# How many people fail?\n",
    "(train.final_grade < 70).mean()"
   ]
  },
  {
   "cell_type": "code",
   "execution_count": null,
   "id": "2507f863-6083-470d-bf55-2ddb25811b73",
   "metadata": {},
   "outputs": [],
   "source": [
    "train['fails_class'] = train.final_grade < 70"
   ]
  },
  {
   "cell_type": "code",
   "execution_count": null,
   "id": "b1ede4ca-8685-4597-ae6b-5b4e2145c547",
   "metadata": {},
   "outputs": [],
   "source": [
    "pd.crosstab(train.exam1_desc, train.fails_class)"
   ]
  },
  {
   "cell_type": "markdown",
   "id": "15deee3c-0d48-4e25-8f34-c3bd78f0f3ec",
   "metadata": {},
   "source": [
    "Nobody who got a good grade on exam 1 went on to fail the class."
   ]
  },
  {
   "cell_type": "code",
   "execution_count": null,
   "id": "554e4f9e-d091-49e5-a03d-dcc9f3494352",
   "metadata": {},
   "outputs": [],
   "source": [
    "pd.crosstab(train.exam1_desc, train.fails_class, normalize='index')"
   ]
  },
  {
   "cell_type": "markdown",
   "id": "157222a0-a245-4e98-aea9-b1881ed1f92e",
   "metadata": {},
   "source": [
    "* Almost a third (32.5%) of students who get a bad grade (<= 75) on the first exam end up failing the class."
   ]
  },
  {
   "cell_type": "markdown",
   "id": "ec024b19-6256-4c3a-8691-347e2a1df1c5",
   "metadata": {},
   "source": [
    "This suggests we can intervene in students likely to fail by taking a look at the score on the first exam."
   ]
  }
 ],
 "metadata": {
  "kernelspec": {
   "display_name": "Python 3",
   "language": "python",
   "name": "python3"
  },
  "language_info": {
   "codemirror_mode": {
    "name": "ipython",
    "version": 3
   },
   "file_extension": ".py",
   "mimetype": "text/x-python",
   "name": "python",
   "nbconvert_exporter": "python",
   "pygments_lexer": "ipython3",
   "version": "3.8.8"
  }
 },
 "nbformat": 4,
 "nbformat_minor": 5
}
